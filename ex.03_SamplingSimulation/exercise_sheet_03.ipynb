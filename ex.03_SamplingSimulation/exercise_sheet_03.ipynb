{
 "cells": [
  {
   "cell_type": "markdown",
   "metadata": {},
   "source": [
    "# Exercise Sheet 3: Sampling, Simulation"
   ]
  },
  {
   "cell_type": "markdown",
   "metadata": {},
   "source": [
    "In this exercise sheet, we will simulate a Markov chain. In the first part, we will consider a pure Python based implementation where a single particle jumps from one position to another of the lattice, where all transitions to neighboring states have the same probability. Then, we will add probability weightings for the transitions. Finally, the implementation will be parallelized to run many chains in parallel."
   ]
  },
  {
   "cell_type": "code",
   "execution_count": 1,
   "metadata": {
    "collapsed": true
   },
   "outputs": [],
   "source": [
    "%matplotlib inline "
   ]
  },
  {
   "cell_type": "markdown",
   "metadata": {
    "collapsed": true
   },
   "source": [
    "## Exercise 1: Random moves in a lattice (20 P)\n",
    "\n",
    "In this exercise, we will simulate the propagation of particles in a graph composed of 8 states (denoted by letters A-H) and stored in the variable `S` defined in the cell below. The lattice is the following:\n",
    "\n",
    "![](lattice.png)\n",
    "\n",
    "The particle starts in state `A` and then jumps randomly from its current state to one of its neighbors, all with same probability. Note that it cannot stay at the current position. The dictionary `T` defined in the cell below encode such transition behavior."
   ]
  },
  {
   "cell_type": "code",
   "execution_count": 2,
   "metadata": {
    "collapsed": true
   },
   "outputs": [],
   "source": [
    "# List of states\n",
    "S = 'ABCDEFGH'\n",
    "\n",
    "# Set of transitions\n",
    "T = {'A':'BE','B':'AFC','C':'BGD','D':'CH','E':'AF','F':'EBG','G':'FCH','H':'GD'}"
   ]
  },
  {
   "cell_type": "markdown",
   "metadata": {},
   "source": [
    "Using pure Python, simulate the experiment below and run it for 1999 iterations. Print the sequence of first 400 states visited by the particle.  To obtain the same results as in `pdf` solution file, you should initialize the seed of the module `random` to value `123` using the function `random.seed` before starting the simulation."
   ]
  },
  {
   "cell_type": "code",
   "execution_count": 3,
   "metadata": {},
   "outputs": [
    {
     "name": "stdout",
     "output_type": "stream",
     "text": [
      "ABFEFBABFGHDHGFEFGCDCBAEAEABFGCBABCBABFBCGCGFBFGCBCDHGCDHDHDCDCDCGHDCGCDHGHDHDCBCBCGFBAEAEFGHGHDCBCGCGFEAEABFBCGCDHGFGFGCDCBFEFEFEFBFEFBFEAEABFGFGFGFGCDHGHDHDCDHGHGHDHGHGCDCGCDHDHGFGCDCGHGHDCDHGCDCBFBFEABCBABFGFEFEFGHGHGCGHDCGHDHDCDCDCDHDCDCGCGHDHDCGCBAEAEFGCBCGCBFEFGHDCGFGCGFBCDHGHDHDHGHDHDCBABFGCDCGHGCDCGCBCBFGHDCGHDCDCGCBFBFEAEABAEABFBFEFGFEFGHDCDCDHDHGFGCDHDCGFEABABABFEAEFGFEAEFEFEFGHDCDCDHGCB\n"
     ]
    }
   ],
   "source": [
    "import random\n",
    "\n",
    "random.seed(123)\n",
    "iterations = 1999\n",
    "state = 'A'\n",
    "states_string = state\n",
    "\n",
    "for i in range(iterations):\n",
    "    state = random.choice(T[state])\n",
    "    states_string += state\n",
    "    \n",
    "print(states_string[:400])"
   ]
  },
  {
   "cell_type": "markdown",
   "metadata": {},
   "source": [
    "Using `matplotlib`, produce a bar plot (`matplotlib.pyplot.bar`) showing the fraction of the time the particle is found in a given state, averaged over the whole simulation."
   ]
  },
  {
   "cell_type": "code",
   "execution_count": 4,
   "metadata": {},
   "outputs": [
    {
     "data": {
      "image/png": "[encoded data removed]",
      "text/plain": [
       "<matplotlib.figure.Figure at 0x8a05b50>"
      ]
     },
     "metadata": {},
     "output_type": "display_data"
    }
   ],
   "source": [
    "from matplotlib import pyplot as plt\n",
    "\n",
    "letters = []\n",
    "fractions = []\n",
    "for s in S:\n",
    "    letters.append(s)\n",
    "    fractions.append((states_string.count(s) / len(states_string)))\n",
    "\n",
    "plt.bar(range(len(S)), fractions, tick_label=letters)\n",
    "plt.grid(True)"
   ]
  },
  {
   "cell_type": "markdown",
   "metadata": {
    "collapsed": true
   },
   "source": [
    "## Exercise 2: Adding a special state (20 P)\n",
    "\n",
    "Suppose now that the rule is modified such that everytime the particle is in state `F`, it always moves to `E` in the next step.\n",
    "\n",
    "* Modify the code to handle this special case, and create a bar plot for the new states distribution."
   ]
  },
  {
   "cell_type": "code",
   "execution_count": 5,
   "metadata": {},
   "outputs": [
    {
     "data": {
      "image/png": "[encoded data removed]",
      "text/plain": [
       "<matplotlib.figure.Figure at 0x8027710>"
      ]
     },
     "metadata": {},
     "output_type": "display_data"
    }
   ],
   "source": [
    "T = {'A':'BE','B':'AFC','C':'BGD','D':'CH','E':'AF','F':'E','G':'FCH','H':'GD'}\n",
    "\n",
    "iterations = 1999\n",
    "state = 'A'\n",
    "states_string = state\n",
    "\n",
    "for i in range(iterations):\n",
    "    state = random.choice(T[state])\n",
    "    states_string += state\n",
    "    \n",
    "letters = []\n",
    "fractions = []\n",
    "for s in S:\n",
    "    letters.append(s)\n",
    "    fractions.append((states_string.count(s) / len(states_string)))\n",
    "\n",
    "plt.bar(range(len(S)), fractions, tick_label=letters)\n",
    "plt.grid(True)"
   ]
  },
  {
   "cell_type": "markdown",
   "metadata": {},
   "source": [
    "## Exercise 3: Exact solution to the previous exercise (20 P)\n",
    "\n",
    "For simple Markov chains, a number of statistics can be obtained analytically from the structure of the transition model, in particular, by analysis of the transition matrix.\n",
    "\n",
    "* Compute the transition matrices associated to the models of exercise 1 and 2 (make sure that each row in these matrices sums to 1).\n",
    "* Give the transition matrices as argument to the function `utils.getstationary(P)` and print their result.\n",
    "\n",
    "This last function computes in closed form the stationary distribution associated to a given transition matrix `P` (i.e. the one we would get if running the simulation with such transition matrix for infinitely many time steps and looking at state frequencies)."
   ]
  },
  {
   "cell_type": "code",
   "execution_count": 6,
   "metadata": {},
   "outputs": [
    {
     "name": "stdout",
     "output_type": "stream",
     "text": [
      "Exercise 1 [ 0.1   0.15  0.15  0.1   0.1   0.15  0.15  0.1 ]\n",
      "Exercise 2 [ 0.19  0.12  0.08  0.04  0.29  0.2   0.04  0.04]\n"
     ]
    }
   ],
   "source": [
    "import numpy as np\n",
    "import utils\n",
    "\n",
    "S = 'ABCDEFGH'\n",
    "T1 = {'A':'BE','B':'AFC','C':'BGD','D':'CH','E':'AF','F':'EBG','G':'FCH','H':'GD'}\n",
    "T2 = {'A':'BE','B':'AFC','C':'BGD','D':'CH','E':'AF','F':'E','G':'FCH','H':'GD'}\n",
    "\n",
    "TM1 = np.zeros([len(T1), len(T1)]) \n",
    "TM2 = np.zeros([len(T2), len(T2)]) \n",
    "\n",
    "for i in range(len(S)):\n",
    "    for j in range(len(S)):\n",
    "        if S[j] in T1[S[i]]:\n",
    "            TM1[i][j] = 1 / len(T1[S[i]])\n",
    "        if S[j] in T2[S[i]]:\n",
    "            TM2[i][j] = 1 / len(T2[S[i]])\n",
    "            \n",
    "print('Exercise 1', np.around(utils.getstationary(TM1), 2))\n",
    "print('Exercise 2', np.around(utils.getstationary(TM2), 2))"
   ]
  },
  {
   "cell_type": "markdown",
   "metadata": {},
   "source": [
    "## Exercise 4: Adding non-uniform transition probabilities (20 P)\n",
    "\n",
    "We consider the original lattice defined by the variable `T`. We set transition probabilities for each state to be such that: (1) the probability of moving left is always twice the probability of moving right when both moves are available. (2) The probability of moving vertically is the same as the probability of moving horizontally.\n",
    "\n",
    "* Build the transition matrix `P` implementing the described behavior, and compute its stationary distribution using the function `utils.getstationary(P)`.\n",
    "\n",
    "(Hints: You can notice that for each state, the transitions towards other states are always listed from left to right in the dictionary `T`. Also note that characters A-H can be mapped to integer values using the Python function ord(), thus, giving a direct relation between state names and indices of the transition matrix.)"
   ]
  },
  {
   "cell_type": "code",
   "execution_count": 7,
   "metadata": {},
   "outputs": [
    {
     "name": "stdout",
     "output_type": "stream",
     "text": [
      "[ 0.14  0.21  0.11  0.04  0.14  0.21  0.11  0.04]\n"
     ]
    }
   ],
   "source": [
    "# List of states\n",
    "S = 'ABCDEFGH'\n",
    "\n",
    "# Set of transitions\n",
    "T = {'A':'BE','B':'AFC','C':'BGD','D':'CH','E':'AF','F':'EBG','G':'FCH','H':'GD'}\n",
    "\n",
    "TM = np.zeros([len(T), len(T)])\n",
    "\n",
    "for s in S:\n",
    "    if s in ['A', 'D', 'E', 'H']:\n",
    "        for t in T[s]:\n",
    "            TM[ord(s)%65][ord(t)%65] = 1/2\n",
    "    else:\n",
    "        for i, t in enumerate(T[s]):\n",
    "            if i == 0:\n",
    "                TM[ord(s)%65][ord(t)%65] = (1/2)*(2/3) \n",
    "            elif i == 1:\n",
    "                TM[ord(s)%65][ord(t)%65] = 1/2\n",
    "            else:\n",
    "                TM[ord(s)%65][ord(t)%65] = (1/2)*(1/3)\n",
    "                \n",
    "print(np.around(utils.getstationary(TM), 2))"
   ]
  },
  {
   "cell_type": "markdown",
   "metadata": {},
   "source": [
    "## Exercise 5: Simulation for multiple particles (20 P)\n",
    "\n",
    "We let 1000 particles evolve simultaneously in the system described in Exercise 4. The initial state of these particles is pseudo-random and given by the function `utils.getinitialstate()`.\n",
    "\n",
    "* Using the function `utils.mcstep()` that was introduced during the lecture, simulate this system for 500 time steps.\n",
    "* Estimate the stationary distribution by looking at the distribution of these particles in state space after 500 time steps.\n",
    "\n",
    "For reproducibility, give seed values to the function utils.mcstep corresponding to the current time step of the simulation (i.e. from 0 to 499)."
   ]
  },
  {
   "cell_type": "code",
   "execution_count": 8,
   "metadata": {},
   "outputs": [
    {
     "name": "stdout",
     "output_type": "stream",
     "text": [
      "[0.145, 0.238, 0.096, 0.030, 0.139, 0.214, 0.096, 0.042]\n"
     ]
    }
   ],
   "source": [
    "t = 500 \n",
    "A = utils.getinitialstate()\n",
    "P = np.pad(TM,1,mode='constant')[1:-1,:-1]\n",
    "\n",
    "for i in range(t):    \n",
    "    A = utils.mcstep(A, P, i)\n",
    "    \n",
    "print('[%.3f, %.3f, %.3f, %.3f, %.3f, %.3f, %.3f, %.3f]' %tuple(A.mean(axis=0)))"
   ]
  }
 ],
 "metadata": {
  "kernelspec": {
   "display_name": "Python 3",
   "language": "python",
   "name": "python3"
  },
  "language_info": {
   "codemirror_mode": {
    "name": "ipython",
    "version": 3
   },
   "file_extension": ".py",
   "mimetype": "text/x-python",
   "name": "python",
   "nbconvert_exporter": "python",
   "pygments_lexer": "ipython3",
   "version": "3.4.4"
  }
 },
 "nbformat": 4,
 "nbformat_minor": 1
}
