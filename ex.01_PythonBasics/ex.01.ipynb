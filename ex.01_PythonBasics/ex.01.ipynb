{
 "cells": [
  {
   "cell_type": "markdown",
   "metadata": {},
   "source": [
    "# Exercise Sheet 1: Python Basics\n",
    "\n",
    "This first  exercise sheet tests the basic functionalities of the Python programming language in the context of a simple prediction task. We consider the problem of predicting health risk of subjects from personal data and habits. We first use for this task a decision tree\n",
    "\n",
    "![](tree.png)\n",
    "\n",
    "adapted from the webpage http://www.refactorthis.net/post/2013/04/10/Machine-Learning-tutorial-How-to-create-a-decision-tree-in-RapidMiner-using-the-Titanic-passenger-data-set.aspx. For this exercise sheet, you are required to use only pure Python, and to not import any module, including numpy. In exercise sheet 2, the nearest neighbor part of this exercise sheet will be revisited with numpy."
   ]
  },
  {
   "cell_type": "markdown",
   "metadata": {},
   "source": [
    "## Classifying a single instance (15 P)\n",
    "\n",
    "* Create a function that takes as input a tuple containing values for attributes (smoker,age,diet), and computes the output of the decision tree.\n",
    "* Test your function on the tuple `('yes',31,'good')`,"
   ]
  },
  {
   "cell_type": "code",
   "execution_count": 1,
   "metadata": {},
   "outputs": [
    {
     "name": "stdout",
     "output_type": "stream",
     "text": [
      "more\n"
     ]
    }
   ],
   "source": [
    "def classifier(smoker, age, diet):\n",
    "    if smoker == 'yes':\n",
    "        if age < 29.5:\n",
    "            return 'less'\n",
    "        else:\n",
    "            return 'more'\n",
    "    else:\n",
    "        if diet == 'good':\n",
    "            return 'less'\n",
    "        else:\n",
    "            return 'more'\n",
    "        \n",
    "print(classifier('yes', 31, 'good'))"
   ]
  },
  {
   "cell_type": "markdown",
   "metadata": {},
   "source": [
    "## Reading a dataset from a text file (10 P)\n",
    "\n",
    "The file `health-test.txt` contains several fictious records of personal data and habits.\n",
    "\n",
    "* Read the file automatically using the methods introduced during the lecture.\n",
    "* Represent the dataset as a list of tuples."
   ]
  },
  {
   "cell_type": "code",
   "execution_count": 2,
   "metadata": {
    "scrolled": true
   },
   "outputs": [
    {
     "name": "stdout",
     "output_type": "stream",
     "text": [
      "('yes', 21, 'poor')\n",
      "('no', 50, 'good')\n",
      "('no', 23, 'good')\n",
      "('yes', 45, 'poor')\n",
      "('yes', 51, 'good')\n",
      "('no', 60, 'good')\n",
      "('no', 15, 'poor')\n",
      "('no', 18, 'good')\n"
     ]
    }
   ],
   "source": [
    "test_list = []\n",
    "test_file = open('health-test.txt')\n",
    "\n",
    "for line in test_file:\n",
    "    smoker, age, diet = line.split(',')\n",
    "    test_list.append((smoker, int(age), diet.rstrip()))\n",
    "    \n",
    "for test in test_list:\n",
    "    print(test)"
   ]
  },
  {
   "cell_type": "markdown",
   "metadata": {},
   "source": [
    "## Applying the decision tree to the dataset (15 P)\n",
    "\n",
    "* Apply the decision tree to all points in the dataset, and compute the percentage of them that are classified as \"more risk\"."
   ]
  },
  {
   "cell_type": "code",
   "execution_count": 3,
   "metadata": {},
   "outputs": [
    {
     "name": "stdout",
     "output_type": "stream",
     "text": [
      "0.375\n"
     ]
    }
   ],
   "source": [
    "counter = 0\n",
    "\n",
    "for test in test_list:\n",
    "    if classifier(*test) == 'more':\n",
    "        counter += 1\n",
    "        \n",
    "print(counter/len(test_list))"
   ]
  },
  {
   "cell_type": "markdown",
   "metadata": {},
   "source": [
    "## Learning from examples (10 P)\n",
    "\n",
    "Suppose that instead of relying on a fixed decision tree, we would like to use a data-driven approach where data points are classified based on a set of training observations manually labeled by experts. Such labeled dataset is available in the file `health-train.txt`. The first three columns have the same meaning than for `health-test.txt`, and the last column corresponds to the labels.\n",
    "\n",
    "* Write a procedure that reads this file and converts it into a list of pairs. The first element of each pair is a triplet of attributes, and the second element is the label."
   ]
  },
  {
   "cell_type": "code",
   "execution_count": 4,
   "metadata": {},
   "outputs": [
    {
     "name": "stdout",
     "output_type": "stream",
     "text": [
      "(('yes', 54, 'good'), 'less')\n",
      "(('no', 55, 'good'), 'less')\n",
      "(('no', 26, 'good'), 'less')\n",
      "(('yes', 40, 'good'), 'more')\n",
      "(('yes', 25, 'poor'), 'less')\n",
      "(('no', 13, 'poor'), 'more')\n",
      "(('no', 15, 'good'), 'less')\n",
      "(('no', 50, 'poor'), 'more')\n",
      "(('yes', 33, 'good'), 'more')\n",
      "(('no', 35, 'good'), 'less')\n",
      "(('no', 41, 'good'), 'less')\n",
      "(('yes', 30, 'poor'), 'more')\n",
      "(('no', 39, 'poor'), 'more')\n",
      "(('no', 20, 'good'), 'less')\n",
      "(('yes', 18, 'poor'), 'less')\n",
      "(('yes', 55, 'good'), 'more')\n"
     ]
    }
   ],
   "source": [
    "train_list = []\n",
    "train_file = open('health-train.txt')\n",
    "\n",
    "for line in train_file:\n",
    "    smoker, age, diet, label = line.split(',')\n",
    "    train_list.append(((smoker, int(age), diet), label.rstrip()))\n",
    "    \n",
    "for train in train_list:\n",
    "    print(train)"
   ]
  },
  {
   "cell_type": "markdown",
   "metadata": {},
   "source": [
    "## Nearest neighbor classifier (25 P)\n",
    "\n",
    "We consider the nearest neighbor algorithm that classifies test points following the label of the nearest neighbor in the training data. For this, we need to define a distance function between data points. We define it to be\n",
    "\n",
    "`d(a,b) = (a[0]!=b[0])+((a[1]-b[1])/50.0)**2+(a[2]!=b[2])`\n",
    "\n",
    "where `a` and `b` are two tuples corrsponding to the attributes of two data points.\n",
    "\n",
    "* Write a function that retrieves for a test point the nearest neighbor in the training set, and classifies the test point accordingly.\n",
    "* Test your function on the tuple `('yes',31,'good')`"
   ]
  },
  {
   "cell_type": "code",
   "execution_count": 5,
   "metadata": {},
   "outputs": [
    {
     "name": "stdout",
     "output_type": "stream",
     "text": [
      "(('yes', 31, 'good'), 'more')\n"
     ]
    }
   ],
   "source": [
    "def d(a,b):\n",
    "    return (a[0]!=b[0])+((a[1]-b[1])/50.0)**2+(a[2]!=b[2])\n",
    "\n",
    "def nnclassifier(test_point, train_list):\n",
    "    min_d = float('inf')\n",
    "    for train in train_list:\n",
    "        dist = d(test_point, train[0])\n",
    "        if dist < min_d:\n",
    "            min_d = dist\n",
    "            nn = train\n",
    "    return (test_point, nn[1])\n",
    "\n",
    "print(nnclassifier((\"yes\", 31, \"good\"), train_list))"
   ]
  },
  {
   "cell_type": "markdown",
   "metadata": {},
   "source": [
    "* Apply both the decision tree and nearest neighbor classifiers on the test set, and find the data point(s) for which the two classifiers disagree, and with which probability it happens."
   ]
  },
  {
   "cell_type": "code",
   "execution_count": 6,
   "metadata": {},
   "outputs": [
    {
     "name": "stdout",
     "output_type": "stream",
     "text": [
      "[('yes', 51, 'good')]\n",
      "0.125\n"
     ]
    }
   ],
   "source": [
    "counter = 0\n",
    "dis_list = []\n",
    "\n",
    "for test in test_list:\n",
    "    if classifier(*test) != nnclassifier(test, train_list)[1]:\n",
    "        counter += 1\n",
    "        dis_list.append(test)\n",
    "        \n",
    "print(dis_list)\n",
    "print(counter/len(test_list))"
   ]
  },
  {
   "cell_type": "markdown",
   "metadata": {},
   "source": [
    "One problem of simple nearest neighbors is that one needs to compare the point to predict to all data points in the training set. This can be slow for datasets of thousands of points or more. Alternatively, some classifiers train a model first, and then use it to classify the data.\n",
    "\n",
    "## Nearest mean classifier (25 P)\n",
    "\n",
    "We consider one such trainable model, which operates in two steps:\n",
    "\n",
    "(1) Compute the average point for each class, (2) classify new points to be of the class whose average point is nearest to the point to predict.\n",
    "\n",
    "For this classifier, we convert the attributes smoker and diet to real values (for smoker: yes=1.0 and no=0.0, and for diet: good=0.0 and poor=1.0), and use the modified distance function:\n",
    "\n",
    "`d(a,b) = (a[0]-b[0])**2+((a[1]-b[1])/50.0)**2+(a[2]-b[2])**2`\n",
    "\n",
    "We adopt an object-oriented approach for building this classifier.\n",
    "\n",
    "* Implement the methods `train` and `predict` of the class `NearestMeanClassifier`."
   ]
  },
  {
   "cell_type": "code",
   "execution_count": 7,
   "metadata": {},
   "outputs": [],
   "source": [
    "def dist(a, b):\n",
    "    return (a[0]-b[0])**2 + ((a[1]-b[1])/50.0)**2 + (a[2]-b[2])**2\n",
    "\n",
    "class NearestMeanClassifier:\n",
    "    \n",
    "    # Training method that takes as input a dataset\n",
    "    # and produces two internal vectors corresponding\n",
    "    # to the mean of each class.\n",
    "    def train(self,dataset):\n",
    "        smoke_l = 0\n",
    "        age_l = 0\n",
    "        diet_l = 0\n",
    "        \n",
    "        smoke_m = 0\n",
    "        age_m = 0\n",
    "        diet_m = 0\n",
    "        \n",
    "        counter_l = 0\n",
    "        counter_m = 0\n",
    "        \n",
    "        for item in dataset:\n",
    "            if item[1] == 'less':\n",
    "                smoke_l += 1 if item[0][0] == 'yes' else 0\n",
    "                age_l += item[0][1]\n",
    "                diet_l += 1 if item[0][2] == 'poor' else 0\n",
    "                counter_l += 1\n",
    "            else:\n",
    "                smoke_m += 1 if item[0][0] == 'yes' else 0\n",
    "                age_m += item[0][1]\n",
    "                diet_m += 1 if item[0][2] == 'poor' else 0\n",
    "                counter_m += 1\n",
    "        \n",
    "        self.less = (smoke_l/counter_l, age_l/counter_l, diet_l/counter_l)\n",
    "        self.more = (smoke_m/counter_m, age_m/counter_m, diet_m/counter_m)\n",
    "    \n",
    "    # Prediction method that takes as input a new data\n",
    "    # point and predicts it to belong to the class with\n",
    "    # nearest mean.\n",
    "    def predict(self,x):\n",
    "        x = (1 if x[0] == 'yes' else 0, x[1], 1 if x[2] == 'poor' else 0)\n",
    "        l = dist(self.less, x)\n",
    "        m = dist(self.more, x)\n",
    "        \n",
    "        if l < m:\n",
    "            return 'less'\n",
    "        else:\n",
    "            return 'more'\n",
    "        "
   ]
  },
  {
   "cell_type": "markdown",
   "metadata": {},
   "source": [
    "* Build an object of class `NearestMeanClassifier`, train it on the training data, and print the mean vector for each class."
   ]
  },
  {
   "cell_type": "code",
   "execution_count": 8,
   "metadata": {},
   "outputs": [
    {
     "name": "stdout",
     "output_type": "stream",
     "text": [
      "(0.3333333333333333, 32.111111111111114, 0.2222222222222222)\n",
      "(0.5714285714285714, 37.142857142857146, 0.5714285714285714)\n"
     ]
    }
   ],
   "source": [
    "c = NearestMeanClassifier()\n",
    "c.train(train_list)\n",
    "\n",
    "print(c.less)\n",
    "print(c.more)"
   ]
  },
  {
   "cell_type": "markdown",
   "metadata": {},
   "source": [
    "* Predict the test data using the nearest mean classifier and print all test examples for which all three classifiers (decision tree, nearest neighbor and nearest mean) agree."
   ]
  },
  {
   "cell_type": "code",
   "execution_count": 9,
   "metadata": {},
   "outputs": [
    {
     "name": "stdout",
     "output_type": "stream",
     "text": [
      "(('no', 50, 'good'), 'less')\n",
      "(('no', 23, 'good'), 'less')\n",
      "(('yes', 45, 'poor'), 'more')\n",
      "(('no', 60, 'good'), 'less')\n",
      "(('no', 15, 'poor'), 'more')\n",
      "(('no', 18, 'good'), 'less')\n"
     ]
    }
   ],
   "source": [
    "agr_list = []\n",
    "\n",
    "for test in test_list:\n",
    "    if classifier(*test) == nnclassifier(test, train_list)[1] == c.predict(test):\n",
    "        agr_list.append((test, classifier(*test)))\n",
    "    \n",
    "for item in agr_list:\n",
    "    print(item)"
   ]
  }
 ],
 "metadata": {
  "kernelspec": {
   "display_name": "Python 3",
   "language": "python",
   "name": "python3"
  },
  "language_info": {
   "codemirror_mode": {
    "name": "ipython",
    "version": 3
   },
   "file_extension": ".py",
   "mimetype": "text/x-python",
   "name": "python",
   "nbconvert_exporter": "python",
   "pygments_lexer": "ipython3",
   "version": "3.4.4"
  }
 },
 "nbformat": 4,
 "nbformat_minor": 1
}
